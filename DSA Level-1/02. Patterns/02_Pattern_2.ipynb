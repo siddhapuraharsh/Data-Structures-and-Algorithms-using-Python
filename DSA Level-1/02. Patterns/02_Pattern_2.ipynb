{
  "nbformat": 4,
  "nbformat_minor": 0,
  "metadata": {
    "colab": {
      "name": "02_Pattern 2",
      "provenance": [],
      "collapsed_sections": []
    },
    "kernelspec": {
      "name": "python3",
      "display_name": "Python 3"
    },
    "language_info": {
      "name": "python"
    }
  },
  "cells": [
    {
      "cell_type": "markdown",
      "source": [
        "Pattern 2\n"
      ],
      "metadata": {
        "id": "tMIuE3iWcdfL"
      }
    },
    {
      "cell_type": "code",
      "execution_count": 1,
      "metadata": {
        "colab": {
          "base_uri": "https://localhost:8080/"
        },
        "id": "jHyMAGQdxPPG",
        "outputId": "c599e4a6-3b31-48cd-8ba8-781256eb275a"
      },
      "outputs": [
        {
          "output_type": "stream",
          "name": "stdout",
          "text": [
            "5\n",
            "*\t*\t*\t*\t*\t\n",
            "*\t*\t*\t*\t\n",
            "*\t*\t*\t\n",
            "*\t*\t\n",
            "*\t\n"
          ]
        }
      ],
      "source": [
        "'''\n",
        "Pattern 2\n",
        "Easy\n",
        "\n",
        "1. You are given a number n.\n",
        "2. You've to create a pattern of * and separated by tab as shown in output format.\n",
        "\n",
        "Constraints\n",
        "1 <= n <= 100\n",
        "\n",
        "Example\n",
        "Sample Input\n",
        "5\n",
        "\n",
        "Sample Output\n",
        "*\t*\t*\t*\t*\t\n",
        "*\t*\t*\t*\t\n",
        "*\t*\t*\t\n",
        "*\t*\t\n",
        "*\n",
        "'''\n",
        "\n",
        "n = int(input())\n",
        "for i in range(n,0,-1):\n",
        "  print('*\\t'*i)"
      ]
    }
  ]
}