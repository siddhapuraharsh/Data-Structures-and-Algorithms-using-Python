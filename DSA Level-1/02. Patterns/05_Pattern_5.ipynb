{
  "nbformat": 4,
  "nbformat_minor": 0,
  "metadata": {
    "colab": {
      "name": "05_Pattern 5",
      "provenance": [],
      "collapsed_sections": []
    },
    "kernelspec": {
      "name": "python3",
      "display_name": "Python 3"
    },
    "language_info": {
      "name": "python"
    }
  },
  "cells": [
    {
      "cell_type": "markdown",
      "source": [
        "Pattern 5\n"
      ],
      "metadata": {
        "id": "tMIuE3iWcdfL"
      }
    },
    {
      "cell_type": "code",
      "execution_count": 4,
      "metadata": {
        "colab": {
          "base_uri": "https://localhost:8080/"
        },
        "id": "jHyMAGQdxPPG",
        "outputId": "e9c43b5c-ff2a-4ee0-a912-ced6484293b9"
      },
      "outputs": [
        {
          "output_type": "stream",
          "name": "stdout",
          "text": [
            "7\n",
            "\t\t\t*\t\n",
            "\t\t*\t*\t*\t\n",
            "\t*\t*\t*\t*\t*\t\n",
            "*\t*\t*\t*\t*\t*\t*\t\n",
            "\t*\t*\t*\t*\t*\t\n",
            "\t\t*\t*\t*\t\n",
            "\t\t\t*\t\n"
          ]
        }
      ],
      "source": [
        "'''\n",
        "Pattern 5\n",
        "Easy\n",
        "\n",
        "1. You are given a number n.\n",
        "2. You've to create a pattern of * and separated by tab as shown in output format.\n",
        "\n",
        "Constraints\n",
        "1 <= n <= 100\n",
        "Also, n is odd.\n",
        "\n",
        "Example\n",
        "Sample Input\n",
        "\n",
        "5\n",
        "\n",
        "Sample Output\n",
        "    *\t\n",
        "\t*\t*\t*\t\n",
        "*\t*\t*\t*\t*\t\n",
        "\t*\t*\t*\t\n",
        "\t\t*\n",
        "'''\n",
        "\n",
        "n = int(input())\n",
        "\n",
        "lowerTriangle = n//2\n",
        "upperTriangle = n-lowerTriangle\n",
        "\n",
        "for i in range(1,upperTriangle+1):\n",
        "    print( ('\\t'*(upperTriangle-i)) + ('*\\t'*(2*i-1)) )\n",
        "\n",
        "for i in range(lowerTriangle,0,-1):\n",
        "    print( ('\\t'*(lowerTriangle-i+1)) + ('*\\t'*(2*i-1)) )"
      ]
    }
  ]
}