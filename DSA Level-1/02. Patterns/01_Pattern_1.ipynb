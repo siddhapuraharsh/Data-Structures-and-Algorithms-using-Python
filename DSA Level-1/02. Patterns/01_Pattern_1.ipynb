{
  "nbformat": 4,
  "nbformat_minor": 0,
  "metadata": {
    "colab": {
      "name": "01_Pattern 1",
      "provenance": [],
      "collapsed_sections": []
    },
    "kernelspec": {
      "name": "python3",
      "display_name": "Python 3"
    },
    "language_info": {
      "name": "python"
    }
  },
  "cells": [
    {
      "cell_type": "markdown",
      "source": [
        "Pattern 1\n"
      ],
      "metadata": {
        "id": "tMIuE3iWcdfL"
      }
    },
    {
      "cell_type": "code",
      "execution_count": 17,
      "metadata": {
        "colab": {
          "base_uri": "https://localhost:8080/"
        },
        "id": "jHyMAGQdxPPG",
        "outputId": "557aa038-4c9e-4514-f429-0cdae50823d4"
      },
      "outputs": [
        {
          "output_type": "stream",
          "name": "stdout",
          "text": [
            "5\n",
            "*\t\n",
            "*\t*\t\n",
            "*\t*\t*\t\n",
            "*\t*\t*\t*\t\n",
            "*\t*\t*\t*\t*\t\n"
          ]
        }
      ],
      "source": [
        "'''\n",
        "\n",
        "Pattern 1\n",
        "Easy\n",
        "\n",
        "1. You are given a number n.\n",
        "2. You've to create a pattern of * and separated by tab as shown in output format.\n",
        "\n",
        "Constraints\n",
        "1 <= n <= 100\n",
        "\n",
        "Format\n",
        "Input\n",
        "A number n\n",
        "\n",
        "Output\n",
        "*\t\n",
        "*\t*\n",
        "....n\n",
        "\n",
        "Example\n",
        "Sample Input\n",
        "2\n",
        "\n",
        "Sample Output\n",
        "*\t\n",
        "*\t*\n",
        "\n",
        "'''\n",
        "\n",
        "n = int(input())\n",
        "\n",
        "for i in range(1,n+1):\n",
        "    print('*\\t'*i)\n"
      ]
    }
  ]
}