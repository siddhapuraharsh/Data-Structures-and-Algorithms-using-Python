{
  "nbformat": 4,
  "nbformat_minor": 0,
  "metadata": {
    "colab": {
      "name": "04_Pattern 4",
      "provenance": [],
      "collapsed_sections": []
    },
    "kernelspec": {
      "name": "python3",
      "display_name": "Python 3"
    },
    "language_info": {
      "name": "python"
    }
  },
  "cells": [
    {
      "cell_type": "markdown",
      "source": [
        "Pattern 4\n"
      ],
      "metadata": {
        "id": "tMIuE3iWcdfL"
      }
    },
    {
      "cell_type": "code",
      "execution_count": 3,
      "metadata": {
        "colab": {
          "base_uri": "https://localhost:8080/"
        },
        "id": "jHyMAGQdxPPG",
        "outputId": "0e17416e-e88e-4b18-e2fd-f2a420aa6797"
      },
      "outputs": [
        {
          "output_type": "stream",
          "name": "stdout",
          "text": [
            "5\n",
            "*\t*\t*\t*\t*\t\n",
            "\t*\t*\t*\t*\t\n",
            "\t\t*\t*\t*\t\n",
            "\t\t\t*\t*\t\n",
            "\t\t\t\t*\t\n"
          ]
        }
      ],
      "source": [
        "'''\n",
        "Pattern 4\n",
        "Easy\n",
        "\n",
        "1. You are given a number n. \n",
        "2. You've to create a pattern of * and separated by tab as shown in output format.\n",
        "\n",
        "Constraints\n",
        "1 <= n <= 100\n",
        "\n",
        "Example\n",
        "Sample Input\n",
        "5\n",
        "\n",
        "Sample Output\n",
        "*\t*\t*\t*\t*\t\n",
        "\t*\t*\t*\t*\t\n",
        "\t\t*\t*\t*\t\n",
        "\t\t\t*\t*\t\n",
        "\t\t\t\t*\n",
        "'''\n",
        "\n",
        "n = int(input())\n",
        "for i in range(n):\n",
        "    print( ('\\t'*i) + ('*\\t'*(n-i)))"
      ]
    }
  ]
}