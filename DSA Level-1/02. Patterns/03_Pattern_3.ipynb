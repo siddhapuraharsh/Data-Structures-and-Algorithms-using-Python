{
  "nbformat": 4,
  "nbformat_minor": 0,
  "metadata": {
    "colab": {
      "name": "03_Pattern 3",
      "provenance": [],
      "collapsed_sections": []
    },
    "kernelspec": {
      "name": "python3",
      "display_name": "Python 3"
    },
    "language_info": {
      "name": "python"
    }
  },
  "cells": [
    {
      "cell_type": "markdown",
      "source": [
        "Pattern 3\n"
      ],
      "metadata": {
        "id": "tMIuE3iWcdfL"
      }
    },
    {
      "cell_type": "code",
      "execution_count": 2,
      "metadata": {
        "colab": {
          "base_uri": "https://localhost:8080/"
        },
        "id": "jHyMAGQdxPPG",
        "outputId": "64ba4419-6468-4c64-85fa-f4dab8c43423"
      },
      "outputs": [
        {
          "output_type": "stream",
          "name": "stdout",
          "text": [
            "5\n",
            "\t\t\t\t*\t\n",
            "\t\t\t*\t*\t\n",
            "\t\t*\t*\t*\t\n",
            "\t*\t*\t*\t*\t\n",
            "*\t*\t*\t*\t*\t\n"
          ]
        }
      ],
      "source": [
        "'''\n",
        "Pattern 3\n",
        "Easy\n",
        "\n",
        "1. You are given a number n. \n",
        "2. You've to create a pattern of * and separated by tab as shown in output format.\n",
        "\n",
        "Constraints\n",
        "1 <= n <= 10\n",
        "\n",
        "Example\n",
        "Sample Input\n",
        "5\n",
        "\n",
        "Sample Output\n",
        "\t\t\t\t*\n",
        "\t\t\t*\t*\n",
        "\t\t*\t*\t*\n",
        "\t*\t*\t*\t*\n",
        "*\t*\t*\t*\t*\n",
        "'''\n",
        "\n",
        "n = int(input())\n",
        "for i in range(1,n+1):\n",
        "  print( ('\\t'*(n-i)) + ('*\\t'*i) )"
      ]
    }
  ]
}