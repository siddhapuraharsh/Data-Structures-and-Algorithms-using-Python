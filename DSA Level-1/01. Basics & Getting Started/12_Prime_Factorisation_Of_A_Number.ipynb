{
  "nbformat": 4,
  "nbformat_minor": 0,
  "metadata": {
    "colab": {
      "name": "12_Prime Factorisation Of A Number",
      "provenance": [],
      "collapsed_sections": []
    },
    "kernelspec": {
      "name": "python3",
      "display_name": "Python 3"
    },
    "language_info": {
      "name": "python"
    }
  },
  "cells": [
    {
      "cell_type": "markdown",
      "source": [
        "Prime Factorisation Of A Number"
      ],
      "metadata": {
        "id": "tMIuE3iWcdfL"
      }
    },
    {
      "cell_type": "code",
      "execution_count": 15,
      "metadata": {
        "colab": {
          "base_uri": "https://localhost:8080/"
        },
        "id": "jHyMAGQdxPPG",
        "outputId": "ae6b435a-ec5f-4a3f-88ca-1b194f4a1a71"
      },
      "outputs": [
        {
          "output_type": "stream",
          "name": "stdout",
          "text": [
            "1440\n",
            "2 2 2 2 2 3 3 5 "
          ]
        }
      ],
      "source": [
        "'''\n",
        "\n",
        "Prime Factorisation Of A Number\n",
        "Easy\n",
        "\n",
        "    1. You are required to display the prime factorization of a number.\n",
        "    2. Take as input a number n.\n",
        "    3. Print all its prime factors from smallest to largest.                         \n",
        "                          \n",
        "Constraints\n",
        "2 <= n < 10 ^ 9\n",
        "\n",
        "Format\n",
        "Input\n",
        "n, an integer\n",
        "\n",
        "Output\n",
        "p1  p2  p3  p4.. all prime factors of n\n",
        "\n",
        "Example\n",
        "Sample Input\n",
        "1440\n",
        "\n",
        "Sample Output\n",
        "2 2 2 2 2 3 3 5\n",
        "\n",
        "'''\n",
        "\n",
        "import math\n",
        "def primeFac(n):\n",
        "    while(1):\n",
        "        if n%2 == 0:\n",
        "            print('2', end=' ')\n",
        "            n = n//2\n",
        "        else:\n",
        "            break\n",
        "\n",
        "    i = 3\n",
        "    while(n!=1):\n",
        "        if n%i == 0:\n",
        "            n = n//i\n",
        "            print(i, end=' ')\n",
        "        else:\n",
        "            i += 2\n",
        "\n",
        "def main():\n",
        "    n = int(input())\n",
        "    primeFac(n)\n",
        "\n",
        "if __name__==\"__main__\":\n",
        "    main()\n"
      ]
    }
  ]
}