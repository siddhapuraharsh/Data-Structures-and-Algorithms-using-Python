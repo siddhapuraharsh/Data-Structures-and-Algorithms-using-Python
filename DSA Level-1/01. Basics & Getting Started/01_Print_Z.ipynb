{
  "nbformat": 4,
  "nbformat_minor": 0,
  "metadata": {
    "colab": {
      "name": "01. Print Z",
      "provenance": [],
      "collapsed_sections": []
    },
    "kernelspec": {
      "name": "python3",
      "display_name": "Python 3"
    },
    "language_info": {
      "name": "python"
    }
  },
  "cells": [
    {
      "cell_type": "code",
      "execution_count": null,
      "metadata": {
        "colab": {
          "base_uri": "https://localhost:8080/"
        },
        "id": "j8DEHb7Em0PZ",
        "outputId": "2a7d4046-feb5-4fda-a8c6-a6bf2ad81724"
      },
      "outputs": [
        {
          "output_type": "stream",
          "name": "stdout",
          "text": [
            "*****\n",
            "   * \n",
            "  *  \n",
            " *   \n",
            "*****\n"
          ]
        }
      ],
      "source": [
        "'''\n",
        "\n",
        "You are required to print a 'z' of size 5 using '*'.                               \n",
        "\n",
        "Constraints\n",
        "No Constraints\n",
        "\n",
        "Format\n",
        "Input\n",
        "There is no input\n",
        "\n",
        "Output\n",
        "\n",
        "\n",
        "Example\n",
        "Sample Output\n",
        "\n",
        "*****\n",
        "   *\n",
        "  *\n",
        " *\n",
        "*****\n",
        "\n",
        "'''\n",
        "\n",
        "n = 5\n",
        "for i in range(n):\n",
        "  for j in range(n):\n",
        "    if i==0 or i==(n-1):\n",
        "      print('*', end='')\n",
        "    else:\n",
        "      if i==(n-j-1):\n",
        "        print('*', end='')\n",
        "      else:\n",
        "        print(' ', end='')\n",
        "  print()\n"
      ]
    }
  ]
}