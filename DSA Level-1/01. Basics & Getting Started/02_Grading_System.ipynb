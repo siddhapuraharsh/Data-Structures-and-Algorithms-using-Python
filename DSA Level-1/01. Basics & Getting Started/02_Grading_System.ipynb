{
  "nbformat": 4,
  "nbformat_minor": 0,
  "metadata": {
    "colab": {
      "name": "02_Grading-System",
      "provenance": [],
      "collapsed_sections": []
    },
    "kernelspec": {
      "name": "python3",
      "display_name": "Python 3"
    },
    "language_info": {
      "name": "python"
    }
  },
  "cells": [
    {
      "cell_type": "code",
      "execution_count": 2,
      "metadata": {
        "colab": {
          "base_uri": "https://localhost:8080/"
        },
        "id": "j8DEHb7Em0PZ",
        "outputId": "3d097363-90f1-43fc-c469-d887b56301ee"
      },
      "outputs": [
        {
          "output_type": "stream",
          "name": "stdout",
          "text": [
            "80\n",
            "fair\n"
          ]
        }
      ],
      "source": [
        "'''\n",
        "\n",
        "1. You are given as input marks of a student.\n",
        "2. Display an appropriate message based on the following rules:\n",
        "  \t  2.1 for marks above 90, print excellent.\n",
        "  \t  2.2 for marks above 80 and less than equal to 90, print good.\n",
        "  \t  2.3 for marks above 70 and less than equal to 80, print fair.\n",
        "  \t  2.4 for marks above 60 and less than equal to 70, print meets expectations.\n",
        "  \t  2.5 for marks less than equal to 60, print below par.\n",
        "\n",
        "\n",
        "Constraints\n",
        "No constraints\n",
        "\n",
        "Format\n",
        "Input\n",
        "Input is handled for you and provided as variable marks\n",
        "\n",
        "Output\n",
        "Appropriate message as per student's marks\n",
        "\n",
        "Example\n",
        "Sample Input\n",
        "92\n",
        "\n",
        "Sample Output\n",
        "excellent\n",
        "\n",
        "'''\n",
        "\n",
        "marks = int(input())\n",
        "if(marks>90):\n",
        "  print(\"excellent\")\n",
        "elif(marks>80 and marks<=90):\n",
        "  print(\"good\")\n",
        "elif(marks>70 and marks<=80):\n",
        "  print(\"fair\")\n",
        "elif(marks>60 and marks<=70):\n",
        "  print(\"meets expectations\")\n",
        "elif(marks<=60):\n",
        "  print(\"below par\")\n",
        "else:\n",
        "  print(\"Invalid Input\")\n"
      ]
    }
  ]
}