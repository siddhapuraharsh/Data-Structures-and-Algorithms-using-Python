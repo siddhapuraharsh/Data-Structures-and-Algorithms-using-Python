{
  "nbformat": 4,
  "nbformat_minor": 0,
  "metadata": {
    "colab": {
      "name": "07_Digits Of A Number",
      "provenance": []
    },
    "kernelspec": {
      "name": "python3",
      "display_name": "Python 3"
    },
    "language_info": {
      "name": "python"
    }
  },
  "cells": [
    {
      "cell_type": "code",
      "execution_count": 8,
      "metadata": {
        "colab": {
          "base_uri": "https://localhost:8080/"
        },
        "id": "jHyMAGQdxPPG",
        "outputId": "28ae165f-c7eb-4fc8-b246-4361d2c000a7"
      },
      "outputs": [
        {
          "output_type": "stream",
          "name": "stdout",
          "text": [
            "1554538760\n",
            "1\n",
            "5\n",
            "5\n",
            "4\n",
            "5\n",
            "3\n",
            "8\n",
            "7\n",
            "6\n",
            "0\n"
          ]
        }
      ],
      "source": [
        "'''\n",
        "\n",
        "Digits Of A Number\n",
        "Easy\n",
        "\n",
        "1. You've to display the digits of a number.\n",
        "2. Take as input \"n\", the number for which digits have to be displayed.\n",
        "3. Print the digits of the number line-wise.\n",
        "\n",
        "Constraints\n",
        "1 <= n < 10^9\n",
        "\n",
        "Format\n",
        "Input\n",
        "\"n\" where n is any integer.\n",
        "\n",
        "Output\n",
        "d1\n",
        "d2\n",
        "d3\n",
        "... digits of the number\n",
        "\n",
        "Example\n",
        "Sample Input\n",
        "\n",
        "65784383\n",
        "\n",
        "Sample Output\n",
        "6\n",
        "5\n",
        "7\n",
        "8\n",
        "4\n",
        "3\n",
        "8\n",
        "3\n",
        "\n",
        "'''\n",
        "\n",
        "def digits(n):\n",
        "    for i in range(len(n)):\n",
        "        print(n[i])\n",
        "\n",
        "def main():\n",
        "    n = input()\n",
        "    digits(n)\n",
        "\n",
        "if __name__==\"__main__\":\n",
        "    main()"
      ]
    }
  ]
}