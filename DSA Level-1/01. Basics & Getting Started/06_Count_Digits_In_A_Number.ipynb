{
  "nbformat": 4,
  "nbformat_minor": 0,
  "metadata": {
    "colab": {
      "name": "06_Count Digits In A Number",
      "provenance": []
    },
    "kernelspec": {
      "name": "python3",
      "display_name": "Python 3"
    },
    "language_info": {
      "name": "python"
    }
  },
  "cells": [
    {
      "cell_type": "code",
      "execution_count": 6,
      "metadata": {
        "colab": {
          "base_uri": "https://localhost:8080/"
        },
        "id": "jHyMAGQdxPPG",
        "outputId": "14ad39cb-1015-458a-dd85-c5434cfca3a1"
      },
      "outputs": [
        {
          "output_type": "stream",
          "name": "stdout",
          "text": [
            "321654\n",
            "6\n"
          ]
        }
      ],
      "source": [
        "'''\n",
        "\n",
        "Count Digits In A Number\n",
        "Easy\n",
        "\n",
        "1. You've to count the number of digits in a number.\n",
        "2. Take as input \"n\", the number for which the digits has to be counted.\n",
        "3. Print the digits in that number.\n",
        "\n",
        "Constraints\n",
        "1 <= n < 10^9\n",
        "\n",
        "Format\n",
        "Input\n",
        "\"n\" where n is any integer.\n",
        "\n",
        "Output\n",
        "\"d\" where d is the number of digits in the number \"n\"\n",
        "\n",
        "Example\n",
        "Sample Input\n",
        "\n",
        "65784383\n",
        "\n",
        "Sample Output\n",
        "8\n",
        "\n",
        "'''\n",
        "\n",
        "def count(n):\n",
        "    cnt = 0\n",
        "    while(n):\n",
        "        cnt = cnt+1\n",
        "        n = int(n/10)\n",
        "    print(cnt)\n",
        "\n",
        "def main():\n",
        "    n = int(input())\n",
        "    count(n)\n",
        "\n",
        "if __name__==\"__main__\":\n",
        "    main()"
      ]
    }
  ]
}