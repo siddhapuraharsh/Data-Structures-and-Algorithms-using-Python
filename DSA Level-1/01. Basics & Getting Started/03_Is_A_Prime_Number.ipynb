{
  "nbformat": 4,
  "nbformat_minor": 0,
  "metadata": {
    "colab": {
      "name": "03_Is_A_Prime_Number",
      "provenance": []
    },
    "kernelspec": {
      "name": "python3",
      "display_name": "Python 3"
    },
    "language_info": {
      "name": "python"
    }
  },
  "cells": [
    {
      "cell_type": "code",
      "execution_count": 3,
      "metadata": {
        "colab": {
          "base_uri": "https://localhost:8080/"
        },
        "id": "jHyMAGQdxPPG",
        "outputId": "17606380-c17d-4672-8470-3120d975aa16"
      },
      "outputs": [
        {
          "output_type": "stream",
          "name": "stdout",
          "text": [
            "5\n",
            "1\n",
            "prime\n",
            "2\n",
            "prime\n",
            "3\n",
            "prime\n",
            "4\n",
            "not prime\n",
            "196\n",
            "not prime\n"
          ]
        }
      ],
      "source": [
        "'''\n",
        "\n",
        "1. You've to check whether a given number is prime or not.\n",
        "2. Take a number \"t\" as input representing count of input numbers to be tested.\n",
        "3. Take a number \"n\" as input \"t\" number of times.\n",
        "4. For each input value of n, print \"prime\" if the number is prime and \"not prime\" otherwise.\n",
        "\n",
        "Constraints\n",
        "1 <= t <= 10000\n",
        "2 <= n < 10^9\n",
        "\n",
        "Format\n",
        "Input\n",
        "A number t\n",
        "A number n\n",
        "A number n\n",
        ".. t number of times\n",
        "\n",
        "Output\n",
        "prime\n",
        "not prime\n",
        "not prime\n",
        ".. t number of times\n",
        "\n",
        "Example\n",
        "Sample Input\n",
        "5\n",
        "13\n",
        "2\n",
        "3\n",
        "4\n",
        "5\n",
        "\n",
        "Sample Output\n",
        "prime\n",
        "prime\n",
        "prime\n",
        "not prime\n",
        "prime\n",
        "\n",
        "'''\n",
        "\n",
        "\n",
        "import math\n",
        "\n",
        "t = int(input())\n",
        "\n",
        "for i in range(t):\n",
        "  n = int(input())\n",
        "  flag = 0\n",
        "\n",
        "  for j in range(2,int(math.sqrt(n))+1):\n",
        "    if n%j == 0:\n",
        "      flag = 1\n",
        "      break\n",
        "\n",
        "  if flag==1 :\n",
        "    print('not prime')\n",
        "  else:\n",
        "    print('prime')\n",
        "    "
      ]
    }
  ]
}