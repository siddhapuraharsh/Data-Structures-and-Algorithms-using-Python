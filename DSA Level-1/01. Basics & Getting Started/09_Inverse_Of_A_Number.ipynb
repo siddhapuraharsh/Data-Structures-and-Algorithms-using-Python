{
  "nbformat": 4,
  "nbformat_minor": 0,
  "metadata": {
    "colab": {
      "name": "09_Inverse Of A Number",
      "provenance": [],
      "collapsed_sections": []
    },
    "kernelspec": {
      "name": "python3",
      "display_name": "Python 3"
    },
    "language_info": {
      "name": "python"
    }
  },
  "cells": [
    {
      "cell_type": "code",
      "execution_count": 5,
      "metadata": {
        "colab": {
          "base_uri": "https://localhost:8080/"
        },
        "id": "jHyMAGQdxPPG",
        "outputId": "223c62f6-7ca3-486c-ab60-57881fb7a786"
      },
      "outputs": [
        {
          "output_type": "stream",
          "name": "stdout",
          "text": [
            "28346751\n",
            "73425681\n"
          ]
        }
      ],
      "source": [
        "'''\n",
        "\n",
        "Inverse Of A Number\n",
        "Easy\n",
        "\n",
        "1. You are given a number following certain constraints.\n",
        "2. The key constraint is if the number is 5 digits long, it'll contain all the digits from 1 to 5 without missing any and without repeating any. e.g. 23415 is a 5 digit long number containing all digits from 1 to 5 without missing and repeating any digit from 1 to 5.Take a look at few other valid numbers - 624135, 81456273 etc.Here are a few invalid numbers - 139, 7421357 etc.\n",
        "3. The inverse of a number is defined as the number created by interchanging the face value and index of digits of number.e.g. for 426135 (reading from right to left, 5 is in place 1, 3 is in place 2, 1 is in place 3, 6 is in place 4, 2 is in place 5 and 4 is in place 6), the inverse will be 416253 (reading from right to left, 3 is in place 1, 5 is in place 2,2 is in place 3, 6 is in place 4, 1 is in place 5 and 4 is in place 6) More examples - inverse of 2134 is 1243 and inverse of 24153 is 24153    \n",
        "4. Take as input number \"n\", assume that the number will follow constraints.\n",
        "5. Print it's inverse.\n",
        "\n",
        "Constraints\n",
        "1 <= n < 10^8, and follwing other constraints defined above.\n",
        "\n",
        "Format\n",
        "Input\n",
        "\"n\" where n is any integer, following constraints defined above.\n",
        "\n",
        "Output\n",
        "\"i\", the inverted number\n",
        "\n",
        "Example\n",
        "Sample Input\n",
        "\n",
        "28346751\n",
        "\n",
        "Sample Output\n",
        "73425681\n",
        "\n",
        "'''\n",
        "\n",
        "def inverse(n):\n",
        "    answer = []\n",
        "    for i in range(len(n)):\n",
        "        answer.insert(i, str(n.index(str(i+1))+1))\n",
        "    \n",
        "    ans_string = ''\n",
        "    for i in range(len(answer)-1,-1,-1):\n",
        "        ans_string += answer[i]\n",
        "    print(ans_string)\n",
        "\n",
        "def main():\n",
        "    n = input()[::-1]\n",
        "    inverse(n)\n",
        "\n",
        "if __name__==\"__main__\":\n",
        "    main()\n"
      ]
    }
  ]
}