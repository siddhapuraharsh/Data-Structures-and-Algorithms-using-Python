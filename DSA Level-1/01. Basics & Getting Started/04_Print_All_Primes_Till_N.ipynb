{
  "nbformat": 4,
  "nbformat_minor": 0,
  "metadata": {
    "colab": {
      "name": "04_Print All Primes Till N",
      "provenance": []
    },
    "kernelspec": {
      "name": "python3",
      "display_name": "Python 3"
    },
    "language_info": {
      "name": "python"
    }
  },
  "cells": [
    {
      "cell_type": "code",
      "execution_count": 4,
      "metadata": {
        "colab": {
          "base_uri": "https://localhost:8080/"
        },
        "id": "jHyMAGQdxPPG",
        "outputId": "ec70a704-f8d3-4af1-9c8b-89d719ddaeb9"
      },
      "outputs": [
        {
          "output_type": "stream",
          "name": "stdout",
          "text": [
            "1\n",
            "30\n",
            "1\n",
            "2\n",
            "3\n",
            "5\n",
            "7\n",
            "11\n",
            "13\n",
            "17\n",
            "19\n",
            "23\n",
            "29\n"
          ]
        }
      ],
      "source": [
        "'''\n",
        "\n",
        "Print All Primes Till N\n",
        "Easy\n",
        "\n",
        "1. You've to print all prime numbers between a range. \n",
        "2. Take as input \"low\", the lower limit of range.\n",
        "3. Take as input \"high\", the higher limit of range.\n",
        "4. For the range print all the primes numbers between low and high (both included).\n",
        "\n",
        "Constraints\n",
        "2 <= low < high < 10 ^ 6\n",
        "\n",
        "Format\n",
        "Input\n",
        "low \n",
        "high\n",
        "\n",
        "Output\n",
        "n1\n",
        "n2\n",
        ".. all primes between low and high (both included)\n",
        "\n",
        "Example\n",
        "Sample Input\n",
        "\n",
        "6 \n",
        "24\n",
        "\n",
        "Sample Output\n",
        "7\n",
        "11\n",
        "13\n",
        "17\n",
        "19\n",
        "23\n",
        "\n",
        "'''\n",
        "\n",
        "\n",
        "import math\n",
        "\n",
        "low = int(input())\n",
        "high = int(input())\n",
        "\n",
        "for i in range(low,high+1):\n",
        "    for j in range(2,int(math.sqrt(i))+1):\n",
        "        if i%j == 0:\n",
        "            break\n",
        "    else:\n",
        "        print(i)\n"
      ]
    }
  ]
}