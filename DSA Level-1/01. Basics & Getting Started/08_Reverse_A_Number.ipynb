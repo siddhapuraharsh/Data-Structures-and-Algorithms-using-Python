{
  "nbformat": 4,
  "nbformat_minor": 0,
  "metadata": {
    "colab": {
      "name": "08_Reverse A Number",
      "provenance": [],
      "collapsed_sections": []
    },
    "kernelspec": {
      "name": "python3",
      "display_name": "Python 3"
    },
    "language_info": {
      "name": "python"
    }
  },
  "cells": [
    {
      "cell_type": "code",
      "execution_count": 3,
      "metadata": {
        "colab": {
          "base_uri": "https://localhost:8080/"
        },
        "id": "jHyMAGQdxPPG",
        "outputId": "995dd5b9-39a2-48fc-fffa-426001665792"
      },
      "outputs": [
        {
          "output_type": "stream",
          "name": "stdout",
          "text": [
            "3652148920\n",
            "0\n",
            "2\n",
            "9\n",
            "8\n",
            "4\n",
            "1\n",
            "2\n",
            "5\n",
            "6\n",
            "3\n"
          ]
        }
      ],
      "source": [
        "'''\n",
        "\n",
        "Reverse A Number\n",
        "Easy\n",
        "\n",
        "1. You've to display the digits of a number in reverse.\n",
        "2. Take as input \"n\", the number for which digits have to be display in reverse.\n",
        "3. Print the digits of the number line-wise, but in reverse order.\n",
        "\n",
        "Constraints\n",
        "1 <= n < 10^9\n",
        "\n",
        "Format\n",
        "Input\n",
        "\"n\" where n is any integer.\n",
        "\n",
        "Output\n",
        "d1\n",
        "d2\n",
        "d3\n",
        "... digits of the number in reverse\n",
        "\n",
        "Example\n",
        "\n",
        "Sample Input\n",
        "65784383\n",
        "\n",
        "Sample Output\n",
        "3\n",
        "8\n",
        "3\n",
        "4\n",
        "8\n",
        "7\n",
        "5\n",
        "6\n",
        "\n",
        "'''\n",
        "\n",
        "def reverse(n):\n",
        "    while(n):\n",
        "        print(n%10)\n",
        "        n //= 10\n",
        "\n",
        "def main():\n",
        "    n = int(input())\n",
        "    reverse(n)\n",
        "\n",
        "if __name__==\"__main__\":\n",
        "    main()\n",
        "    "
      ]
    }
  ]
}