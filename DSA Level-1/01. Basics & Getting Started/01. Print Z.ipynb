'''

You are required to print a 'z' of size 5 using '*'.                               

Constraints
No Constraints

Format
Input
There is no input

Output


Example
Sample Output

*****
   *
  *
 *
*****

'''

n = 5
for i in range(n):
  for j in range(n):
    if i==0 or i==(n-1):
      print('*', end='')
    else:
      if i==(n-j-1):
        print('*', end='')
      else:
        print(' ', end='')
  print()
