{
  "nbformat": 4,
  "nbformat_minor": 0,
  "metadata": {
    "colab": {
      "name": "05_Print Fibonacci Numbers Till N",
      "provenance": []
    },
    "kernelspec": {
      "name": "python3",
      "display_name": "Python 3"
    },
    "language_info": {
      "name": "python"
    }
  },
  "cells": [
    {
      "cell_type": "code",
      "execution_count": 5,
      "metadata": {
        "colab": {
          "base_uri": "https://localhost:8080/"
        },
        "id": "jHyMAGQdxPPG",
        "outputId": "c9a75507-abe6-47f1-a3de-413ef75dbe2c"
      },
      "outputs": [
        {
          "output_type": "stream",
          "name": "stdout",
          "text": [
            "10\n",
            "0\n",
            "1\n",
            "1\n",
            "2\n",
            "3\n",
            "5\n",
            "8\n",
            "13\n",
            "21\n",
            "34\n"
          ]
        }
      ],
      "source": [
        "'''\n",
        "\n",
        "Print Fibonacci Numbers Till N\n",
        "Easy\n",
        "\n",
        "1. You've to print first n fibonacci numbers.\n",
        "2. Take as input \"n\", the count of fibonacci numbers to print.\n",
        "3. Print first n fibonacci numbers.\n",
        "\n",
        "Constraints\n",
        "1 <= n < 40\n",
        "\n",
        "Format\n",
        "Input\n",
        "n\n",
        "\n",
        "Output\n",
        "0\n",
        "1\n",
        "1\n",
        "2\n",
        "3\n",
        "5\n",
        "8\n",
        ".. first n fibonaccis\n",
        "\n",
        "Example\n",
        "Sample Input\n",
        "10\n",
        "\n",
        "Sample Output\n",
        "0\n",
        "1\n",
        "1\n",
        "2\n",
        "3\n",
        "5\n",
        "8\n",
        "13\n",
        "21\n",
        "34\n",
        "\n",
        "'''\n",
        "\n",
        "n=int(input())\n",
        "\n",
        "a=0\n",
        "b=1\n",
        "\n",
        "print(a)\n",
        "\n",
        "for i in range(1,n):\n",
        "    if i==1:\n",
        "        next = 1\n",
        "    else:\n",
        "        next = a+b\n",
        "        a = b\n",
        "        b = next\n",
        "        \n",
        "    print(next)\n"
      ]
    }
  ]
}