{
  "nbformat": 4,
  "nbformat_minor": 0,
  "metadata": {
    "colab": {
      "name": "13_Pythagorean Triplet",
      "provenance": [],
      "collapsed_sections": []
    },
    "kernelspec": {
      "name": "python3",
      "display_name": "Python 3"
    },
    "language_info": {
      "name": "python"
    }
  },
  "cells": [
    {
      "cell_type": "markdown",
      "source": [
        "Pythagorean Triplet\n"
      ],
      "metadata": {
        "id": "tMIuE3iWcdfL"
      }
    },
    {
      "cell_type": "code",
      "execution_count": 2,
      "metadata": {
        "colab": {
          "base_uri": "https://localhost:8080/"
        },
        "id": "jHyMAGQdxPPG",
        "outputId": "5ce2f0b8-126c-4085-a055-7cc354d314f5"
      },
      "outputs": [
        {
          "output_type": "stream",
          "name": "stdout",
          "text": [
            "5\n",
            "3\n",
            "4\n",
            "true\n"
          ]
        }
      ],
      "source": [
        "'''\n",
        "\n",
        "Pythagorean Triplet\n",
        "Easy\n",
        "\n",
        "1. You are required to check if a given set of numbers is a valid pythagorean triplet.\n",
        "2. Take as input three numbers a, b and c.\n",
        "3. Print true if they can form a pythagorean triplet and false otherwise.\n",
        "\n",
        "Constraints\n",
        "1 <= a <= 10^9\n",
        "1 <= b <= 10^9\n",
        "1 <= c <= 10^9\n",
        "\n",
        "Format\n",
        "Input\n",
        "a, an integer\n",
        "b, an integer\n",
        "c, an integer\n",
        "\n",
        "Output\n",
        "true if the numbers form a pythagorean triplet and false otherwise\n",
        "\n",
        "Example\n",
        "Sample Input\n",
        "5 \n",
        "3 \n",
        "4\n",
        "\n",
        "Sample Output\n",
        "true\n",
        "\n",
        "'''\n",
        "\n",
        "a = int(input())\n",
        "b = int(input())\n",
        "c = int(input())\n",
        "\n",
        "maxEle = a\n",
        "if(b>maxEle):\n",
        "    maxEle = b\n",
        "if(c>maxEle):\n",
        "    maxEle = c\n",
        "\n",
        "if(maxEle==a):\n",
        "    print('true' if b*b + c*c == a*a else 'false')\n",
        "elif(maxEle==b):\n",
        "    print('true' if a*a + c*c == b*b else 'false')\n",
        "else:\n",
        "    print('true' if a*a + b*b == c*c else 'false')\n"
      ]
    }
  ]
}