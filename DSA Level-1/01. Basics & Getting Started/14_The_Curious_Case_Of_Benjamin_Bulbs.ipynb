{
  "nbformat": 4,
  "nbformat_minor": 0,
  "metadata": {
    "colab": {
      "name": "14_The Curious Case Of Benjamin Bulbs",
      "provenance": [],
      "collapsed_sections": []
    },
    "kernelspec": {
      "name": "python3",
      "display_name": "Python 3"
    },
    "language_info": {
      "name": "python"
    }
  },
  "cells": [
    {
      "cell_type": "markdown",
      "source": [
        "The Curious Case Of Benjamin Bulbs\n"
      ],
      "metadata": {
        "id": "tMIuE3iWcdfL"
      }
    },
    {
      "cell_type": "code",
      "execution_count": 7,
      "metadata": {
        "colab": {
          "base_uri": "https://localhost:8080/"
        },
        "id": "jHyMAGQdxPPG",
        "outputId": "1c132cea-8eac-4ee6-c84e-58fe2629a0aa"
      },
      "outputs": [
        {
          "output_type": "stream",
          "name": "stdout",
          "text": [
            "6\n",
            "1\n",
            "4\n"
          ]
        }
      ],
      "source": [
        "'''\n",
        "\n",
        "The Curious Case Of Benjamin Bulbs\n",
        "Easy\n",
        "\n",
        "1. You are given n number of bulbs. They are all switched off. A weird fluctuation in voltage hits the circuit n times. In the 1st fluctuation all bulbs are toggled, in the 2nd fluctuation every 2nd bulb is toggled, in the 3rd fluctuation every 3rd bulb is toggled and so on. You've to find which bulbs will be switched on after n fluctuations.\n",
        "2. Take as input a number n, representing the number of bulbs.\n",
        "3. Print all the bulbs that will be on after the nth fluctuation in voltage.\n",
        "\n",
        "Constraints\n",
        "2 <= n < 10^9\n",
        "\n",
        "Format\n",
        "Input\n",
        "n, an integer\n",
        "\n",
        "Output\n",
        "b1 b2 b3 b4 .. all bulbs that will be on after nth wave\n",
        "\n",
        "Example\n",
        "Sample Input\n",
        "6\n",
        "\n",
        "Sample Output\n",
        "1\n",
        "4\n",
        "\n",
        "'''\n",
        "\n",
        "n = int(input())\n",
        "\n",
        "i = 1\n",
        "while(i*i < n):\n",
        "    print(i*i)\n",
        "    i += 1\n"
      ]
    }
  ]
}