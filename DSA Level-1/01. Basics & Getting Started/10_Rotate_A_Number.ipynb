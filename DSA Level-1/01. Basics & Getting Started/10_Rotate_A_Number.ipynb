{
  "nbformat": 4,
  "nbformat_minor": 0,
  "metadata": {
    "colab": {
      "name": "10_Rotate A Number",
      "provenance": [],
      "collapsed_sections": []
    },
    "kernelspec": {
      "name": "python3",
      "display_name": "Python 3"
    },
    "language_info": {
      "name": "python"
    }
  },
  "cells": [
    {
      "cell_type": "markdown",
      "source": [
        "Rotate A Number"
      ],
      "metadata": {
        "id": "tMIuE3iWcdfL"
      }
    },
    {
      "cell_type": "code",
      "execution_count": 7,
      "metadata": {
        "colab": {
          "base_uri": "https://localhost:8080/"
        },
        "id": "jHyMAGQdxPPG",
        "outputId": "46c7cf10-d43e-4172-e40e-59f5ba5955a4"
      },
      "outputs": [
        {
          "output_type": "stream",
          "name": "stdout",
          "text": [
            "12340056\n",
            "3\n",
            "05612340\n"
          ]
        }
      ],
      "source": [
        "'''\n",
        "\n",
        "Rotate A Number\n",
        "Easy\n",
        "\n",
        "1. You are given two numbers n and k. You are required to rotate n, k times to the right. If k is positive, rotate to the right i.e. remove rightmost digit and make it leftmost. Do the reverse for negative value of k. Also k can have an absolute value larger than number of digits in n.\n",
        "2. Take as input n and k.\n",
        "3. Print the rotated number.\n",
        "4. Note - Assume that the number of rotations will not cause leading 0's in the result. e.g. such an input will not be given\n",
        "   n = 12340056\n",
        "   k = 3\n",
        "   r = 05612340\n",
        "\n",
        "Constraints\n",
        "1 <= n < 10^9\n",
        "-10^9 < k < 10^9\n",
        "\n",
        "Format\n",
        "Input\n",
        "\"n\" where n is any integer.\n",
        "\"K\" where k is any integer.\n",
        "\n",
        "Output\n",
        "\"r\", the rotated number\n",
        "\n",
        "Example\n",
        "Sample Input\n",
        "\n",
        "562984\n",
        "2\n",
        "\n",
        "Sample Output\n",
        "845629\n",
        "\n",
        "'''\n",
        "\n",
        "def rotate(n,k):\n",
        "    length = len(n)\n",
        "\n",
        "    if length<k:\n",
        "        k = length % k\n",
        "\n",
        "    print(n[-k:] + n[:length-k])\n",
        "    \n",
        "\n",
        "def main():\n",
        "    n = input()\n",
        "    k = int(input())\n",
        "    rotate(n,k)\n",
        "\n",
        "if __name__==\"__main__\":\n",
        "    main()\n",
        "    "
      ]
    }
  ]
}