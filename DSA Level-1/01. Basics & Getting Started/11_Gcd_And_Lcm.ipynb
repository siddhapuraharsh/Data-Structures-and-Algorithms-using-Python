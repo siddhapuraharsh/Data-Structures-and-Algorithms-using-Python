{
  "nbformat": 4,
  "nbformat_minor": 0,
  "metadata": {
    "colab": {
      "name": "11_Gcd And Lcm",
      "provenance": [],
      "collapsed_sections": []
    },
    "kernelspec": {
      "name": "python3",
      "display_name": "Python 3"
    },
    "language_info": {
      "name": "python"
    }
  },
  "cells": [
    {
      "cell_type": "markdown",
      "source": [
        "Gcd And Lcm\n"
      ],
      "metadata": {
        "id": "tMIuE3iWcdfL"
      }
    },
    {
      "cell_type": "code",
      "execution_count": 8,
      "metadata": {
        "colab": {
          "base_uri": "https://localhost:8080/"
        },
        "id": "jHyMAGQdxPPG",
        "outputId": "30ca8ec8-9ece-43e2-f58e-6609c9df84ba"
      },
      "outputs": [
        {
          "output_type": "stream",
          "name": "stdout",
          "text": [
            "36\n",
            "24\n",
            "12\n",
            "72\n"
          ]
        }
      ],
      "source": [
        "'''\n",
        "\n",
        "Gcd And Lcm\n",
        "Easy\n",
        "\n",
        "1. You are required to print the Greatest Common Divisor (GCD) of two numbers.\n",
        "2. You are also required to print the Lowest Common Multiple (LCM) of the same numbers.\n",
        "3. Take input \"num1\" and \"num2\" as the two numbers.\n",
        "4. Print their GCD and LCM.\n",
        "\n",
        "Constraints\n",
        "2 <= n <= 10^9\n",
        "\n",
        "Format\n",
        "Input\n",
        "num1\n",
        "num2\n",
        ".. the numbers whose GCD and LCM we have to find.\n",
        "\n",
        "Output\n",
        "a\n",
        "b\n",
        ".. where 'a' and 'b' are the GCD and LCM respectively.\n",
        "\n",
        "Example\n",
        "Sample Input\n",
        "36\n",
        "24\n",
        "\n",
        "Sample Output\n",
        "12\n",
        "72\n",
        "\n",
        "'''\n",
        "\n",
        "def gcdandlcm(n1,n2):\n",
        "    divisor = n1\n",
        "    dividend = n2\n",
        "    remainder = dividend % divisor\n",
        "\n",
        "    while(remainder != 0):\n",
        "        dividend = divisor\n",
        "        divisor = remainder\n",
        "        remainder = dividend % divisor\n",
        "        \n",
        "    gcd = divisor\n",
        "    print(gcd)\n",
        "    print((n1*n2)//gcd)\n",
        "\n",
        "def main():\n",
        "    n1 = int(input())\n",
        "    n2 = int(input())\n",
        "    gcdandlcm(n1,n2)\n",
        "\n",
        "if __name__==\"__main__\":\n",
        "    main()\n"
      ]
    }
  ]
}